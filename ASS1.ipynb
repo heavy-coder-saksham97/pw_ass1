{
 "cells": [
  {
   "cell_type": "raw",
   "id": "20cb53fc-85ca-4a8c-9ec4-72363e4de96d",
   "metadata": {},
   "source": [
    "QUES 1:Explain the key features of Python that make it a popular choice for programming.?\n",
    "ANS 1:Python's combination of readability, simplicity, versatility, and a strong community has contributed to its widespread adoption and popularity across various fields. • Clear Syntax: Python provides code readability with its clean and consistent syntax, making it easier to write and understand code. • Indentation: Python uses whitespace indentation to define code blocks and reducing potential errors. • Flexibility: Developers don't need to specify data types beforehand, saving time and effort. • Time Savings: Developers can use existing modules instead of writing code from scratch. • Code Organization: Python supports OOP concepts like classes, objects, inheritance, and polymorphism, promoting modular and reusable code. • Multiple Domains: Python is used in web development, data science, machine learning, scientific computing, automation, and more. • Adaptability: Its flexibility allows it to be applied to a wide range of applications. • Rapid Development: Developers can write code faster compared to lower-level languages."
   ]
  },
  {
   "cell_type": "raw",
   "id": "51832acf-cc0a-4736-86ee-fecce31427c5",
   "metadata": {},
   "source": [
    "QUES 2:Describe the role of predefined keywords in Python and provide examples of how they are used in a program?\n",
    "\n",
    "ANS2:Keywords are reserved words in Python that have special meanings and are used to control the structure and logic of a program. Keywords like def, class, if, else, for, while are used to define functions, classes, conditional statements, and loops, respectively. Keywords like break, continue, return are used to modify the execution flow of a program. keywords like None, True, False represent specific data types. Keywords like try, except, finally, raise are used to handle errors and exceptions gracefully. Keywords like import, from, global, nonlocal have specific roles in importing modules, declaring global and nonlocal variables, etc."
   ]
  },
  {
   "cell_type": "code",
   "execution_count": 1,
   "id": "c6b57781-5172-43f9-ae72-14bf2a9cac2a",
   "metadata": {},
   "outputs": [
    {
     "name": "stdout",
     "output_type": "stream",
     "text": [
      "You are a minor\n",
      "0\n",
      "1\n",
      "2\n",
      "3\n",
      "4\n"
     ]
    }
   ],
   "source": [
    "#examples of keyword usage \n",
    "# Conditional statement\n",
    "age=11\n",
    "if age >= 18:\n",
    "    print(\"You are an adult\")\n",
    "else:\n",
    "    print(\"You are a minor\")\n",
    "\n",
    "# Loop\n",
    "for i in range(5):\n",
    "    print(i)"
   ]
  },
  {
   "cell_type": "raw",
   "id": "79ac2be5-56f5-4e33-ac6a-ae11907f5f29",
   "metadata": {},
   "source": [
    "QUES 3 :Compare and contrast mutable and immutable objects in Python with examples?\n",
    "\n",
    "ANS 3:Immutable objects cannot be modified once created. Any operation that appears to change the object actually creates a new object with the modified value. Examples of immutable objects: Numbers (integers, floats, complex) Strings Tuples Booleans\n",
    "\n",
    "Mutable objects can be modified in-place after creation. Changes made to the object are reflected in all references to that object. Examples of mutable objects: Lists Dictionaries Sets"
   ]
  },
  {
   "cell_type": "code",
   "execution_count": 2,
   "id": "3898eccb-6cf0-46bd-9c4c-b019aa45204c",
   "metadata": {},
   "outputs": [
    {
     "name": "stdout",
     "output_type": "stream",
     "text": [
      "[1, 2, 3, 4] [1, 2, 3, 4]\n",
      "6 5\n"
     ]
    }
   ],
   "source": [
    "list1 = [1, 2, 3]\n",
    "list2 = list1  # Both list1 and list2 point to the same list object\n",
    "list1.append(4)\n",
    "print(list1, list2)  # Output: [1, 2, 3, 4] [1, 2, 3, 4]\n",
    "#Here, both list1 and list2 point to the same list object. When we append 4 to list1, the original list is modified,\n",
    "#and the change is reflected in list2 as well.\n",
    "\n",
    "\n",
    "x = 5\n",
    "y = x  # y also points to the same integer object 5\n",
    "x += 1  # Creates a new integer object 6 and assigns it to x\n",
    "print(x, y)  \n",
    "#n the above example, changing x to 6 doesn't modify the original integer object 5.\n",
    "#Instead, a new integer object 6 is created, and x is assigned to point to it."
   ]
  },
  {
   "cell_type": "raw",
   "id": "b378acd1-4796-423f-9bfa-caa71e911b62",
   "metadata": {},
   "source": [
    "QUES 4: Discuss the different types of operators in Python and provide examples of how they are used.?\n",
    "ANS 4 :Python offers a variety of operators to perform different operations on variables and values. Arithmetic Operators - Used for basic mathematical operations.\n",
    " Addition\t            x + y\n",
    " Subtraction\t        x - y\n",
    " Multiplication\t    x * y\n",
    "/ Division x / y % Modulus (remainder) x % y // Floor division x // y ** Exponentiation x ** y\n",
    "Comparison Operators Used to compare values and return Boolean results (True or False). == Equal to x == y != Not equal to x != y\n",
    "\n",
    "Greater than x > y < Less than x < y\n",
    "\n",
    "Identity Operators : is - Returns True if both variables refer to the same object is not- Returns True if both variables do not refer to the same object Membership Operators: in-Returns True if a value is present in a sequence not in -Returns True if a value is not present in a sequence Assignment Operators: -= ,+=,/=,//=,*= Logical Operators: and, or, not"
   ]
  },
  {
   "cell_type": "code",
   "execution_count": 3,
   "id": "f1ce8e46-744d-4df8-b7fd-913ac89653b0",
   "metadata": {},
   "outputs": [
    {
     "name": "stdout",
     "output_type": "stream",
     "text": [
      "True\n",
      "False\n",
      "8\n",
      "True\n",
      "True\n",
      "False\n"
     ]
    }
   ],
   "source": [
    "#EXAMPLES\n",
    "list1 = [1, 2, 3, 4, 5]\n",
    "x = 3\n",
    "print(x in list1)  # Output: True\n",
    "print(x not in list1)  # Output: False\n",
    "\n",
    "x = 5\n",
    "x += 3\n",
    "print(x)  # Output: 8\n",
    "\n",
    "\n",
    "x = 10\n",
    "y = 5\n",
    "print(x > 5 and y < 10)  # Output: True\n",
    "print(x > 5 or y > 10)  # Output: True\n",
    "print(not(x > y))  # Output: False"
   ]
  },
  {
   "cell_type": "raw",
   "id": "0c6bf51c-4926-432e-9be2-9aedae7da3df",
   "metadata": {},
   "source": [
    "QUES 5:Explain the concept of type casting in Python with examples.?\n",
    "ANS 5:Type casting is the process of converting one data type into another. Python supports both implicit and explicit type casting.\n",
    "Implicit Type Casting Python automatically converts one data type to another when it is necessary to prevent data loss. Explicit Type Casting You can manually convert one data type to another using built-in functions like int(), float(), str()."
   ]
  },
  {
   "cell_type": "code",
   "execution_count": 4,
   "id": "fb932114-915e-48fa-80dd-445c308b1ff6",
   "metadata": {},
   "outputs": [
    {
     "name": "stdout",
     "output_type": "stream",
     "text": [
      "13.14\n",
      "13\n"
     ]
    }
   ],
   "source": [
    "#IMPLICIT\n",
    "x = 10  # Integer\n",
    "y = 3.14  # Float\n",
    "result = x + y\n",
    "print(result)  # Output: 13.14\n",
    "\n",
    "#EXPLICIT \n",
    "x = \"10\"  # String\n",
    "y = 3\n",
    "x = int(x)\n",
    "result = x + y\n",
    "print(result)  # Output: 13"
   ]
  },
  {
   "cell_type": "raw",
   "id": "4a3bdc6f-bc7b-4621-8e25-2522c3a89753",
   "metadata": {},
   "source": [
    "QUES 6How do conditional statements work in Python? Illust$ate with examples.?\n",
    "ANS 6:Conditional statements allow to control the flow of your Python program based on specific conditions. They let the developer make decisions and execute different code blocks depending on whether these conditions are true or false. The most basic conditional statement is the if statement. It executes a block of code if a specified condition is true. the else statement is used to specify a block of code to be executed if the condition is false. The elif statement allows to check for multiple conditions sequentially."
   ]
  },
  {
   "cell_type": "code",
   "execution_count": 5,
   "id": "b41eabad-5733-47fe-ab29-eae119954023",
   "metadata": {},
   "outputs": [
    {
     "name": "stdout",
     "output_type": "stream",
     "text": [
      "You are a teenager.\n"
     ]
    }
   ],
   "source": [
    "age = 15\n",
    "\n",
    "if age >= 18:\n",
    "    print(\"You are an adult.\")\n",
    "elif age >= 13:\n",
    "    print(\"You are a teenager.\")\n",
    "else:\n",
    "    print(\"You are a child.\")"
   ]
  },
  {
   "cell_type": "raw",
   "id": "028545ce-90e3-40eb-9cb5-77412d761268",
   "metadata": {},
   "source": [
    "QUES 7:Describe the different types of loops in Python and their use cases with examples.?\n",
    "ANS 7:Python offers two primary loop constructs: for and while. For Loops : Iterate over a sequence (list, tuple, string, dictionary, etc.) While Loops : Execute a block of code repeatedly as long as a condition is true. Use break to exit a loop prematurely and continue to skip the current iteration. Common Use Cases listed below-"
   ]
  },
  {
   "cell_type": "code",
   "execution_count": 6,
   "id": "e6322516-cc99-47aa-822b-7b018a18166a",
   "metadata": {},
   "outputs": [
    {
     "name": "stdout",
     "output_type": "stream",
     "text": [
      "*\n",
      "**\n",
      "***\n",
      "****\n",
      "*****\n",
      "2\n",
      "4\n",
      "6\n",
      "8\n",
      "10\n"
     ]
    }
   ],
   "source": [
    "#CREATING PATTERNS\n",
    "for i in range(5):\n",
    "    print(\"*\" * (i + 1))\n",
    "    \n",
    "#ITERATING OVER LISTS,TUPPLES\n",
    "numbers = [1, 2, 3, 4, 5]\n",
    "for num in numbers:\n",
    "    print(num * 2)\n",
    "    \n",
    "#IMPLEMENTING ALGORITHMS \n",
    "def factorial(n):\n",
    "    result = 1\n",
    "    while n > 1:\n",
    "        result *= n\n",
    "        n -= 1\n",
    "    return result"
   ]
  },
  {
   "cell_type": "code",
   "execution_count": null,
   "id": "e40a03e9-5098-4c34-8b53-230b32449609",
   "metadata": {},
   "outputs": [],
   "source": []
  }
 ],
 "metadata": {
  "kernelspec": {
   "display_name": "Python 3 (ipykernel)",
   "language": "python",
   "name": "python3"
  },
  "language_info": {
   "codemirror_mode": {
    "name": "ipython",
    "version": 3
   },
   "file_extension": ".py",
   "mimetype": "text/x-python",
   "name": "python",
   "nbconvert_exporter": "python",
   "pygments_lexer": "ipython3",
   "version": "3.10.8"
  }
 },
 "nbformat": 4,
 "nbformat_minor": 5
}
